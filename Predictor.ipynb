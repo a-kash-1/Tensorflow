{
 "cells": [
  {
   "cell_type": "code",
   "execution_count": 23,
   "metadata": {},
   "outputs": [],
   "source": [
    "import tensorflow as tf\n",
    "import numpy as np\n",
    "import os\n",
    "import matplotlib.pyplot as plt\n",
    "from skimage import transform\n",
    "%matplotlib inline"
   ]
  },
  {
   "cell_type": "code",
   "execution_count": 24,
   "metadata": {},
   "outputs": [],
   "source": [
    "tf.reset_default_graph()\n",
    "saver = tf.train.import_meta_graph('RustNet\\\\checkpoints-500.meta')\n",
    "g = tf.get_default_graph()\n",
    "X = g.get_operation_by_name('Placeholders/image').outputs[0]\n",
    "Y = g.get_operation_by_name('Placeholders/labels').outputs[0]\n",
    "batch_size = g.get_operation_by_name('Placeholders/Placeholder').outputs[0]\n",
    "phase = g.get_operation_by_name('Placeholders/is_training').outputs[0]\n",
    "output = g.get_operation_by_name('FClayer2/fc2/BiasAdd').outputs[0]\n",
    "inputs = g.get_operation_by_name('Convlayer1/Conv1/Conv2D').inputs[0]"
   ]
  },
  {
   "cell_type": "code",
   "execution_count": 25,
   "metadata": {},
   "outputs": [
    {
     "name": "stdout",
     "output_type": "stream",
     "text": [
      "C:\\Users\\akash.sharma\\Downloads\\template\\test\n"
     ]
    }
   ],
   "source": [
    "dir_path = os.getcwd() + '\\\\test'\n",
    "print(dir_path)"
   ]
  },
  {
   "cell_type": "code",
   "execution_count": null,
   "metadata": {},
   "outputs": [],
   "source": []
  },
  {
   "cell_type": "code",
   "execution_count": 26,
   "metadata": {},
   "outputs": [],
   "source": [
    "def transformData(path):\n",
    "    data = []\n",
    "    for filename in os.listdir(path):\n",
    "        if filename.endswith('.PNG'):\n",
    "            image = plt.imread(path + '\\\\' + filename, 0)\n",
    "            x = transform.resize(image, (64,64))\n",
    "            data.append(x)          \n",
    "    return np.array(data)"
   ]
  },
  {
   "cell_type": "code",
   "execution_count": 27,
   "metadata": {},
   "outputs": [
    {
     "name": "stderr",
     "output_type": "stream",
     "text": [
      "c:\\users\\akash.sharma\\appdata\\local\\conda\\conda\\envs\\tensorflow\\lib\\site-packages\\skimage\\transform\\_warps.py:105: UserWarning: The default mode, 'constant', will be changed to 'reflect' in skimage 0.15.\n",
      "  warn(\"The default mode, 'constant', will be changed to 'reflect' in \"\n",
      "c:\\users\\akash.sharma\\appdata\\local\\conda\\conda\\envs\\tensorflow\\lib\\site-packages\\skimage\\transform\\_warps.py:110: UserWarning: Anti-aliasing will be enabled by default in skimage 0.15 to avoid aliasing artifacts when down-sampling images.\n",
      "  warn(\"Anti-aliasing will be enabled by default in skimage 0.15 to \"\n"
     ]
    }
   ],
   "source": [
    "data = transformData(dir_path)"
   ]
  },
  {
   "cell_type": "code",
   "execution_count": 28,
   "metadata": {},
   "outputs": [
    {
     "name": "stdout",
     "output_type": "stream",
     "text": [
      "INFO:tensorflow:Restoring parameters from RustNet\\checkpoints-500\n",
      "Predicted Label: [1 1 1 1 1 0 2]\n"
     ]
    }
   ],
   "source": [
    "#prediction on nine random images \n",
    "_data = data[:9]\n",
    "with tf.Session() as sess:\n",
    "    \n",
    "    saver.restore(sess, tf.train.latest_checkpoint('RustNet\\\\'))\n",
    "    logit, _image = sess.run([output, inputs], feed_dict = {X: _data, batch_size: len(_data), phase: False})\n",
    "    print('Predicted Label: {}'.format(np.argmax(logit, axis = 1)))"
   ]
  },
  {
   "cell_type": "code",
   "execution_count": null,
   "metadata": {},
   "outputs": [],
   "source": []
  }
 ],
 "metadata": {
  "kernelspec": {
   "display_name": "Python 3",
   "language": "python",
   "name": "python3"
  },
  "language_info": {
   "codemirror_mode": {
    "name": "ipython",
    "version": 3
   },
   "file_extension": ".py",
   "mimetype": "text/x-python",
   "name": "python",
   "nbconvert_exporter": "python",
   "pygments_lexer": "ipython3",
   "version": "3.6.6"
  }
 },
 "nbformat": 4,
 "nbformat_minor": 2
}
